{
  "nbformat": 4,
  "nbformat_minor": 0,
  "metadata": {
    "colab": {
      "provenance": [],
      "collapsed_sections": []
    },
    "kernelspec": {
      "name": "python3",
      "display_name": "Python 3"
    },
    "language_info": {
      "name": "python"
    }
  },
  "cells": [
    {
      "cell_type": "code",
      "execution_count": 1,
      "metadata": {
        "colab": {
          "base_uri": "https://localhost:8080/",
          "height": 643
        },
        "id": "m1DStf2oHXyk",
        "outputId": "ccdf102c-a326-410d-ef06-a3bcd05566a9"
      },
      "outputs": [
        {
          "output_type": "stream",
          "name": "stdout",
          "text": [
            "\u001b[33m\r0% [Working]\u001b[0m\r            \rHit:1 http://archive.ubuntu.com/ubuntu bionic InRelease\n",
            "\u001b[33m\r0% [Waiting for headers] [Connecting to security.ubuntu.com (185.125.190.39)] [\u001b[0m\r                                                                               \rGet:2 http://archive.ubuntu.com/ubuntu bionic-updates InRelease [88.7 kB]\n",
            "\r                                                                               \rGet:3 https://cloud.r-project.org/bin/linux/ubuntu bionic-cran40/ InRelease [3,626 B]\n",
            "\u001b[33m\r0% [2 InRelease 15.6 kB/88.7 kB 18%] [Connecting to security.ubuntu.com (185.12\u001b[0m\u001b[33m\r0% [1 InRelease gpgv 242 kB] [2 InRelease 15.6 kB/88.7 kB 18%] [Connecting to s\u001b[0m\u001b[33m\r0% [1 InRelease gpgv 242 kB] [Waiting for headers] [Waiting for headers] [Waiti\u001b[0m\r                                                                               \rGet:4 http://archive.ubuntu.com/ubuntu bionic-backports InRelease [83.3 kB]\n",
            "\u001b[33m\r0% [1 InRelease gpgv 242 kB] [4 InRelease 0 B/83.3 kB 0%] [Waiting for headers]\u001b[0m\u001b[33m\r0% [1 InRelease gpgv 242 kB] [Waiting for headers] [Waiting for headers] [Waiti\u001b[0m\r                                                                               \rHit:5 http://ppa.launchpad.net/c2d4u.team/c2d4u4.0+/ubuntu bionic InRelease\n",
            "\u001b[33m\r0% [1 InRelease gpgv 242 kB] [Waiting for headers] [Waiting for headers] [Conne\u001b[0m\r                                                                               \rGet:6 http://security.ubuntu.com/ubuntu bionic-security InRelease [88.7 kB]\n",
            "\u001b[33m\r0% [1 InRelease gpgv 242 kB] [6 InRelease 14.2 kB/88.7 kB 16%] [Waiting for hea\u001b[0m\r                                                                               \rIgn:7 https://developer.download.nvidia.com/compute/machine-learning/repos/ubuntu1804/x86_64  InRelease\n",
            "Hit:8 https://developer.download.nvidia.com/compute/cuda/repos/ubuntu1804/x86_64  InRelease\n",
            "Hit:9 https://developer.download.nvidia.com/compute/machine-learning/repos/ubuntu1804/x86_64  Release\n",
            "Hit:10 http://ppa.launchpad.net/cran/libgit2/ubuntu bionic InRelease\n",
            "Get:11 http://archive.ubuntu.com/ubuntu bionic-updates/restricted amd64 Packages [1,257 kB]\n",
            "Hit:12 http://ppa.launchpad.net/deadsnakes/ppa/ubuntu bionic InRelease\n",
            "Get:13 http://archive.ubuntu.com/ubuntu bionic-updates/universe amd64 Packages [2,332 kB]\n",
            "Get:14 http://archive.ubuntu.com/ubuntu bionic-updates/main amd64 Packages [3,467 kB]\n",
            "Hit:15 http://ppa.launchpad.net/graphics-drivers/ppa/ubuntu bionic InRelease\n",
            "Get:17 http://security.ubuntu.com/ubuntu bionic-security/restricted amd64 Packages [1,217 kB]\n",
            "Fetched 8,537 kB in 2s (5,033 kB/s)\n",
            "Reading package lists... Done\n",
            "Building dependency tree       \n",
            "Reading state information... Done\n",
            "29 packages can be upgraded. Run 'apt list --upgradable' to see them.\n",
            "Looking in indexes: https://pypi.org/simple, https://us-python.pkg.dev/colab-wheels/public/simple/\n",
            "Collecting pyspark\n",
            "  Downloading pyspark-3.3.1.tar.gz (281.4 MB)\n",
            "\u001b[K     |████████████████████████████████| 281.4 MB 47 kB/s \n",
            "\u001b[?25hCollecting py4j==0.10.9.5\n",
            "  Downloading py4j-0.10.9.5-py2.py3-none-any.whl (199 kB)\n",
            "\u001b[K     |████████████████████████████████| 199 kB 75.3 MB/s \n",
            "\u001b[?25hBuilding wheels for collected packages: pyspark\n",
            "  Building wheel for pyspark (setup.py) ... \u001b[?25l\u001b[?25hdone\n",
            "  Created wheel for pyspark: filename=pyspark-3.3.1-py2.py3-none-any.whl size=281845513 sha256=cdea6cf7afd3bff42ed8e2b5fcc1cdbd9dea9c95cb18121b60afec5bd5a0757a\n",
            "  Stored in directory: /root/.cache/pip/wheels/42/59/f5/79a5bf931714dcd201b26025347785f087370a10a3329a899c\n",
            "Successfully built pyspark\n",
            "Installing collected packages: py4j, pyspark\n",
            "Successfully installed py4j-0.10.9.5 pyspark-3.3.1\n"
          ]
        },
        {
          "output_type": "execute_result",
          "data": {
            "text/plain": [
              "'/content/spark-3.3.1-bin-hadoop3'"
            ],
            "application/vnd.google.colaboratory.intrinsic+json": {
              "type": "string"
            }
          },
          "metadata": {},
          "execution_count": 1
        }
      ],
      "source": [
        "#Bibliotecas para poder trabajar con Spark\n",
        "!sudo apt update\n",
        "!apt-get install openjdk-8-jdk-headless -qq > /dev/null\n",
        "!wget -q https://downloads.apache.org/spark/spark-3.3.1/spark-3.3.1-bin-hadoop3.tgz\n",
        "!tar xf spark-3.3.1-bin-hadoop3.tgz\n",
        "#Configuración de Spark con Python\n",
        "!pip install -q findspark\n",
        "!pip install pyspark\n",
        "\n",
        "#Estableciendo variable de entorno\n",
        "import os\n",
        "os.environ[\"JAVA_HOME\"] = \"/usr/lib/jvm/java-8-openjdk-amd64\"\n",
        "os.environ[\"SPARK_HOME\"] = \"/content/spark-3.3.1-bin-hadoop3\"\n",
        "\n",
        "#Buscando e inicializando la instalación de Spark\n",
        "import findspark\n",
        "findspark.init()\n",
        "findspark.find()"
      ]
    },
    {
      "cell_type": "code",
      "source": [
        "from google.colab import drive\n",
        "\n",
        "drive.mount(\"/content/gdrive\") \n",
        "!pwd"
      ],
      "metadata": {
        "colab": {
          "base_uri": "https://localhost:8080/"
        },
        "id": "ZjsVtyBhFOsI",
        "outputId": "fe9a005c-649f-4fd1-efb0-a0d2f1e4608e"
      },
      "execution_count": 2,
      "outputs": [
        {
          "output_type": "stream",
          "name": "stdout",
          "text": [
            "Mounted at /content/gdrive\n",
            "/content\n"
          ]
        }
      ]
    },
    {
      "cell_type": "code",
      "source": [
        "#put your own path in google drive\n",
        "%cd \"/content/gdrive/MyDrive/IA/Modulo1_BigData\"\n",
        "!ls"
      ],
      "metadata": {
        "colab": {
          "base_uri": "https://localhost:8080/"
        },
        "id": "ylrt0Le_Fdfu",
        "outputId": "f9474968-758c-445f-aa88-2b5e34cf7b7e"
      },
      "execution_count": 3,
      "outputs": [
        {
          "output_type": "stream",
          "name": "stdout",
          "text": [
            "/content/gdrive/MyDrive/IA/Modulo1_BigData\n",
            "Entregable.ipynb\t spark-3.3.1-bin-hadoop3.tgz\n",
            "spark-3.3.1-bin-hadoop3  WIKI_PRICES.csv\n"
          ]
        }
      ]
    },
    {
      "cell_type": "markdown",
      "source": [
        "## Crear la sesión de trabajo"
      ],
      "metadata": {
        "id": "cmddTWi-C4Hn"
      }
    },
    {
      "cell_type": "code",
      "source": [
        "from pyspark.sql import SparkSession\n",
        "from pyspark.sql.functions import last"
      ],
      "metadata": {
        "id": "A-6_AtZjJv8j"
      },
      "execution_count": 4,
      "outputs": []
    },
    {
      "cell_type": "code",
      "source": [
        "#Verificar la funcionalidad de Pyspark \n",
        "\n",
        "spark_session = SparkSession.builder.appName('Entregable').getOrCreate()\n",
        "spark_session"
      ],
      "metadata": {
        "colab": {
          "base_uri": "https://localhost:8080/",
          "height": 219
        },
        "id": "vpK9vaACDNDP",
        "outputId": "36a81b79-75a1-4264-83c0-68b0330f679e"
      },
      "execution_count": 5,
      "outputs": [
        {
          "output_type": "execute_result",
          "data": {
            "text/plain": [
              "<pyspark.sql.session.SparkSession at 0x7f3e997448d0>"
            ],
            "text/html": [
              "\n",
              "            <div>\n",
              "                <p><b>SparkSession - in-memory</b></p>\n",
              "                \n",
              "        <div>\n",
              "            <p><b>SparkContext</b></p>\n",
              "\n",
              "            <p><a href=\"http://34147318e203:4040\">Spark UI</a></p>\n",
              "\n",
              "            <dl>\n",
              "              <dt>Version</dt>\n",
              "                <dd><code>v3.3.1</code></dd>\n",
              "              <dt>Master</dt>\n",
              "                <dd><code>local[*]</code></dd>\n",
              "              <dt>AppName</dt>\n",
              "                <dd><code>Entregable</code></dd>\n",
              "            </dl>\n",
              "        </div>\n",
              "        \n",
              "            </div>\n",
              "        "
            ]
          },
          "metadata": {},
          "execution_count": 5
        }
      ]
    },
    {
      "cell_type": "markdown",
      "source": [
        "## Cargar los datos"
      ],
      "metadata": {
        "id": "uPGgq64lFOmv"
      }
    },
    {
      "cell_type": "code",
      "source": [
        "df = spark_session.read.csv('WIKI_PRICES.csv', header = True, inferSchema = True)"
      ],
      "metadata": {
        "id": "yUZSrLbJDiOP"
      },
      "execution_count": 6,
      "outputs": []
    },
    {
      "cell_type": "code",
      "source": [
        "df.show()"
      ],
      "metadata": {
        "colab": {
          "base_uri": "https://localhost:8080/"
        },
        "id": "cOhFtFlODjZ2",
        "outputId": "9a2ad0fb-a393-4604-e3ae-fd81739d5f93"
      },
      "execution_count": 7,
      "outputs": [
        {
          "output_type": "stream",
          "name": "stdout",
          "text": [
            "+------+-------------------+-----+-----+-----+-----+---------+-----------+-----------+---------------+---------------+---------------+---------------+----------+\n",
            "|ticker|               date| open| high|  low|close|   volume|ex-dividend|split_ratio|       adj_open|       adj_high|        adj_low|      adj_close|adj_volume|\n",
            "+------+-------------------+-----+-----+-----+-----+---------+-----------+-----------+---------------+---------------+---------------+---------------+----------+\n",
            "|     A|1999-11-18 00:00:00| 45.5| 50.0| 40.0| 44.0|4.47399E7|        0.0|        1.0|31.041951216877|34.112034304261|27.289627443409|30.018590187749| 4.47399E7|\n",
            "|     A|1999-11-19 00:00:00|42.94| 43.0|39.81|40.38|1.08971E7|        0.0|        1.0|29.295415060499|29.336349501664|27.160001713052|27.548878904121| 1.08971E7|\n",
            "|     A|1999-11-22 00:00:00|41.31| 44.0|40.06| 44.0|4705200.0|        0.0|        1.0| 28.18336274218|30.018590187749|27.330561884574|30.018590187749| 4705200.0|\n",
            "|     A|1999-11-23 00:00:00| 42.5|43.63|40.25|40.25|4274400.0|        0.0|        1.0|28.995229158622|29.766161133898| 27.46018761493| 27.46018761493| 4274400.0|\n",
            "|     A|1999-11-24 00:00:00|40.13|41.94| 40.0|41.06|3464400.0|        0.0|        1.0|  27.3783187326|28.613174374414|27.289627443409|28.012802570659| 3464400.0|\n",
            "|     A|1999-11-26 00:00:00|40.88| 41.5|40.75|41.19|1237100.0|        0.0|        1.0|27.889999247164|28.312988472536|27.801307957973| 28.10149385985| 1237100.0|\n",
            "|     A|1999-11-29 00:00:00| 41.0|42.44|40.56|42.13|2914700.0|        0.0|        1.0|27.971868129494|28.954294717457|27.671682227616| 28.74280010477| 2914700.0|\n",
            "|     A|1999-11-30 00:00:00| 42.0|42.94|40.94|42.19|3083000.0|        0.0|        1.0|28.654108815579|29.295415060499|27.930933688329|28.783734545935| 3083000.0|\n",
            "|     A|1999-12-01 00:00:00|42.19|43.44|41.88|42.94|2115400.0|        0.0|        1.0|28.783734545935|29.636535403542|28.572239933249|29.295415060499| 2115400.0|\n",
            "|     A|1999-12-02 00:00:00|43.75| 45.0|43.19|44.13|2195900.0|        0.0|        1.0|29.848030016228|30.700830873835| 29.46597523202|30.107281476941| 2195900.0|\n",
            "|     A|1999-12-03 00:00:00|44.94|45.69|44.31| 44.5|2175700.0|        0.0|        1.0| 30.65989643267|31.171576947233|30.230084800436|30.359710530792| 2175700.0|\n",
            "|     A|1999-12-06 00:00:00|45.25|46.44|45.19|45.75|1610000.0|        0.0|        1.0|30.871391045356|31.683257461797|30.830456604191|31.212511388399| 1610000.0|\n",
            "|     A|1999-12-07 00:00:00|45.75| 46.0|44.31|45.25|1585100.0|        0.0|        1.0|31.212511388399| 31.38307155992|30.230084800436|30.871391045356| 1585100.0|\n",
            "|     A|1999-12-08 00:00:00|45.25|45.63|44.81|45.19|1350400.0|        0.0|        1.0|30.871391045356|31.130642506068|30.571205143478|30.830456604191| 1350400.0|\n",
            "|     A|1999-12-09 00:00:00|45.25|45.94|45.25|45.81|1451400.0|        0.0|        1.0|30.871391045356|31.342137118755|30.871391045356|31.253445829564| 1451400.0|\n",
            "|     A|1999-12-10 00:00:00|45.69|45.94|44.75|44.75|1190800.0|        0.0|        1.0|31.171576947233|31.342137118755|30.530270702313|30.530270702313| 1190800.0|\n",
            "|     A|1999-12-13 00:00:00| 45.5|46.25|44.38| 45.5|2875900.0|        0.0|        1.0|31.041951216877|31.553631731441|30.277841648462|31.041951216877| 2875900.0|\n",
            "|     A|1999-12-14 00:00:00|45.38|45.38|42.06| 43.0|1665900.0|        0.0|        1.0|30.960082334547|30.960082334547|28.695043256744|29.336349501664| 1665900.0|\n",
            "|     A|1999-12-15 00:00:00| 42.0|42.31| 41.0|41.69|2087100.0|        0.0|        1.0|28.654108815579|28.865603428265|27.971868129494|28.442614202893| 2087100.0|\n",
            "|     A|1999-12-16 00:00:00| 42.0| 48.0| 42.0|47.25|1848300.0|        0.0|        1.0|28.654108815579| 32.74755293209|28.654108815579|32.235872417526| 1848300.0|\n",
            "+------+-------------------+-----+-----+-----+-----+---------+-----------+-----------+---------------+---------------+---------------+---------------+----------+\n",
            "only showing top 20 rows\n",
            "\n"
          ]
        }
      ]
    },
    {
      "cell_type": "code",
      "source": [
        "df.printSchema()"
      ],
      "metadata": {
        "colab": {
          "base_uri": "https://localhost:8080/"
        },
        "id": "yLuPH1mPEPNo",
        "outputId": "24c49057-a725-4918-c18b-61d2bdfcd6f1"
      },
      "execution_count": 8,
      "outputs": [
        {
          "output_type": "stream",
          "name": "stdout",
          "text": [
            "root\n",
            " |-- ticker: string (nullable = true)\n",
            " |-- date: timestamp (nullable = true)\n",
            " |-- open: double (nullable = true)\n",
            " |-- high: double (nullable = true)\n",
            " |-- low: double (nullable = true)\n",
            " |-- close: double (nullable = true)\n",
            " |-- volume: double (nullable = true)\n",
            " |-- ex-dividend: double (nullable = true)\n",
            " |-- split_ratio: double (nullable = true)\n",
            " |-- adj_open: double (nullable = true)\n",
            " |-- adj_high: double (nullable = true)\n",
            " |-- adj_low: double (nullable = true)\n",
            " |-- adj_close: double (nullable = true)\n",
            " |-- adj_volume: double (nullable = true)\n",
            "\n"
          ]
        }
      ]
    },
    {
      "cell_type": "code",
      "source": [
        "df = df.groupBy(\"Ticker\").avg(\"open\",\"close\",\"high\",\"low\")"
      ],
      "metadata": {
        "id": "UtLOxB4HFmuX"
      },
      "execution_count": 9,
      "outputs": []
    },
    {
      "cell_type": "code",
      "source": [
        "df.show()"
      ],
      "metadata": {
        "colab": {
          "base_uri": "https://localhost:8080/"
        },
        "id": "UgXdt8e9GBIB",
        "outputId": "559c6b34-07a1-42d8-99ba-14d784d15150"
      },
      "execution_count": 10,
      "outputs": [
        {
          "output_type": "stream",
          "name": "stdout",
          "text": [
            "+------+------------------+------------------+------------------+------------------+\n",
            "|Ticker|         avg(open)|        avg(close)|         avg(high)|          avg(low)|\n",
            "+------+------------------+------------------+------------------+------------------+\n",
            "|  ACFN| 5.159595073641425| 5.167712239715598|  5.31348743863215|   5.0101387675639|\n",
            "|  ALXN|61.846555155659544| 61.80857145942056| 62.94784869533896| 60.62664041749151|\n",
            "|   AAT| 33.56090773053562| 33.56303699613469|33.872553837658714| 33.23921960242961|\n",
            "|  ABMD|24.849846952245322|24.871593335058844|25.358382593503315|24.334952478322702|\n",
            "|   AIV| 33.79793227104989| 33.80576316672244| 34.12653463602813|33.449152063066016|\n",
            "|  ARAY| 7.613426659528919|7.6105299785867215|7.7798464668094205| 7.438157316202708|\n",
            "|  ACCO|11.012743428931586|11.017502363693659| 11.20868480932873|10.824503907973531|\n",
            "|   ALE|31.721052625816604|31.733457472187798|31.977249296309214|31.460719789863937|\n",
            "|  ALSN|28.975527290705397|28.974222148978274| 29.27270527356622|28.666580553724447|\n",
            "|  AGIO| 59.62478334749366|  59.6699762107052|61.308424808836136|57.885247918436825|\n",
            "|   ALG|27.153825964132697|27.172286938581088| 27.49453145532461| 26.81968312966189|\n",
            "|  ALKS| 23.22345341956584|23.221512637526104|23.793371141837614| 22.62824689265541|\n",
            "|    AA| 39.07909116809114|39.124330484330464|39.752142165242155| 38.46961339031338|\n",
            "|  ACHC|13.282660036315608|13.285934087157466|13.510581660614044|13.036880496863652|\n",
            "|   APP| 3.723830087028593|3.7142337339411506| 3.806755822627426| 3.617135267302122|\n",
            "|  ARUN|16.325645538761567| 16.32278376401757|16.670201072647497|15.964038761579744|\n",
            "|  AAPL|101.23343664893625|101.19447202127645|102.46695825531889| 99.89625025531926|\n",
            "|   ACW|4.9963550236406515| 4.986302482269509|5.0908800827423075| 4.885528309692673|\n",
            "|  ANDE|29.525136688836977|29.540100647132913|30.008799910120427| 29.04074948768647|\n",
            "|   ALL| 47.13675176828282| 47.15096415426471| 47.60703083693396|46.686172907665345|\n",
            "+------+------------------+------------------+------------------+------------------+\n",
            "only showing top 20 rows\n",
            "\n"
          ]
        }
      ]
    },
    {
      "cell_type": "markdown",
      "source": [
        "## Modelo de regresión\n",
        "MLlib"
      ],
      "metadata": {
        "id": "YlZFZoZNPajs"
      }
    },
    {
      "cell_type": "code",
      "source": [
        "from pyspark.ml.evaluation import RegressionEvaluator\n",
        "from pyspark.ml.regression import LinearRegression\n",
        "from pyspark.ml.tuning import ParamGridBuilder, TrainValidationSplit"
      ],
      "metadata": {
        "id": "6y-QLtxiWfIT"
      },
      "execution_count": 11,
      "outputs": []
    },
    {
      "cell_type": "code",
      "source": [
        "# Usar la librería de VectorAssembler a las variables indenpendientes\n",
        "from pyspark.ml.feature import VectorAssembler\n",
        "\n",
        "featassembler = VectorAssembler(inputCols=['avg(open)','avg(high)','avg(low)'], outputCol = \"Independent\")\n",
        "featassembler"
      ],
      "metadata": {
        "colab": {
          "base_uri": "https://localhost:8080/"
        },
        "id": "ii0PmmrUK8xj",
        "outputId": "133c3c4e-e1d6-4e6f-84a8-ddd4aabaaaff"
      },
      "execution_count": 20,
      "outputs": [
        {
          "output_type": "execute_result",
          "data": {
            "text/plain": [
              "VectorAssembler_57f133888452"
            ]
          },
          "metadata": {},
          "execution_count": 20
        }
      ]
    },
    {
      "cell_type": "code",
      "source": [
        "result = featassembler.transform(df)\n",
        "result.show()"
      ],
      "metadata": {
        "colab": {
          "base_uri": "https://localhost:8080/"
        },
        "id": "rTmrsh5UJY4c",
        "outputId": "b799faa3-e235-4a90-d9be-fe045e942b48"
      },
      "execution_count": 21,
      "outputs": [
        {
          "output_type": "stream",
          "name": "stdout",
          "text": [
            "+------+------------------+------------------+------------------+------------------+--------------------+\n",
            "|Ticker|         avg(open)|        avg(close)|         avg(high)|          avg(low)|         Independent|\n",
            "+------+------------------+------------------+------------------+------------------+--------------------+\n",
            "|  ACFN| 5.159595073641425| 5.167712239715598|  5.31348743863215|   5.0101387675639|[5.15959507364142...|\n",
            "|  ALXN|61.846555155659544| 61.80857145942056| 62.94784869533896| 60.62664041749151|[61.8465551556595...|\n",
            "|   AAT| 33.56090773053562| 33.56303699613469|33.872553837658714| 33.23921960242961|[33.5609077305356...|\n",
            "|  ABMD|24.849846952245322|24.871593335058844|25.358382593503315|24.334952478322702|[24.8498469522453...|\n",
            "|   AIV| 33.79793227104989| 33.80576316672244| 34.12653463602813|33.449152063066016|[33.7979322710498...|\n",
            "|  ARAY| 7.613426659528919|7.6105299785867215|7.7798464668094205| 7.438157316202708|[7.61342665952891...|\n",
            "|  ACCO|11.012743428931586|11.017502363693659| 11.20868480932873|10.824503907973531|[11.0127434289315...|\n",
            "|   ALE|31.721052625816604|31.733457472187798|31.977249296309214|31.460719789863937|[31.7210526258166...|\n",
            "|  ALSN|28.975527290705397|28.974222148978274| 29.27270527356622|28.666580553724447|[28.9755272907053...|\n",
            "|  AGIO| 59.62478334749366|  59.6699762107052|61.308424808836136|57.885247918436825|[59.6247833474936...|\n",
            "|   ALG|27.153825964132697|27.172286938581088| 27.49453145532461| 26.81968312966189|[27.1538259641326...|\n",
            "|  ALKS| 23.22345341956584|23.221512637526104|23.793371141837614| 22.62824689265541|[23.2234534195658...|\n",
            "|    AA| 39.07909116809114|39.124330484330464|39.752142165242155| 38.46961339031338|[39.0790911680911...|\n",
            "|  ACHC|13.282660036315608|13.285934087157466|13.510581660614044|13.036880496863652|[13.2826600363156...|\n",
            "|   APP| 3.723830087028593|3.7142337339411506| 3.806755822627426| 3.617135267302122|[3.72383008702859...|\n",
            "|  ARUN|16.325645538761567| 16.32278376401757|16.670201072647497|15.964038761579744|[16.3256455387615...|\n",
            "|  AAPL|101.23343664893625|101.19447202127645|102.46695825531889| 99.89625025531926|[101.233436648936...|\n",
            "|   ACW|4.9963550236406515| 4.986302482269509|5.0908800827423075| 4.885528309692673|[4.99635502364065...|\n",
            "|  ANDE|29.525136688836977|29.540100647132913|30.008799910120427| 29.04074948768647|[29.5251366888369...|\n",
            "|   ALL| 47.13675176828282| 47.15096415426471| 47.60703083693396|46.686172907665345|[47.1367517682828...|\n",
            "+------+------------------+------------------+------------------+------------------+--------------------+\n",
            "only showing top 20 rows\n",
            "\n"
          ]
        }
      ]
    },
    {
      "cell_type": "code",
      "source": [
        "final_data = result.select(\"Independent\", \"avg(close)\")\n",
        "final_data.show()"
      ],
      "metadata": {
        "colab": {
          "base_uri": "https://localhost:8080/"
        },
        "id": "GZ9XoB-yQQIk",
        "outputId": "0f4bb114-26c2-44aa-99db-0db3646ae367"
      },
      "execution_count": 22,
      "outputs": [
        {
          "output_type": "stream",
          "name": "stdout",
          "text": [
            "+--------------------+------------------+\n",
            "|         Independent|        avg(close)|\n",
            "+--------------------+------------------+\n",
            "|[5.15959507364142...| 5.167712239715598|\n",
            "|[61.8465551556595...| 61.80857145942056|\n",
            "|[33.5609077305356...| 33.56303699613469|\n",
            "|[24.8498469522453...|24.871593335058844|\n",
            "|[33.7979322710498...| 33.80576316672244|\n",
            "|[7.61342665952891...|7.6105299785867215|\n",
            "|[11.0127434289315...|11.017502363693659|\n",
            "|[31.7210526258166...|31.733457472187798|\n",
            "|[28.9755272907053...|28.974222148978274|\n",
            "|[59.6247833474936...|  59.6699762107052|\n",
            "|[27.1538259641326...|27.172286938581088|\n",
            "|[23.2234534195658...|23.221512637526104|\n",
            "|[39.0790911680911...|39.124330484330464|\n",
            "|[13.2826600363156...|13.285934087157466|\n",
            "|[3.72383008702859...|3.7142337339411506|\n",
            "|[16.3256455387615...| 16.32278376401757|\n",
            "|[101.233436648936...|101.19447202127645|\n",
            "|[4.99635502364065...| 4.986302482269509|\n",
            "|[29.5251366888369...|29.540100647132913|\n",
            "|[47.1367517682828...| 47.15096415426471|\n",
            "+--------------------+------------------+\n",
            "only showing top 20 rows\n",
            "\n"
          ]
        }
      ]
    },
    {
      "cell_type": "code",
      "source": [
        "from pyspark.ml.stat import Correlation\n",
        "\n",
        "matrix = Correlation.corr(final_data, 'Independent')\n",
        "cor_np = matrix.collect()[0][matrix.columns[0]].toArray()\n",
        "cor_np"
      ],
      "metadata": {
        "colab": {
          "base_uri": "https://localhost:8080/"
        },
        "id": "MlSC0QmTALdC",
        "outputId": "3cb4a5ff-6b36-4adb-a755-1b69f4fb1ebe"
      },
      "execution_count": 23,
      "outputs": [
        {
          "output_type": "execute_result",
          "data": {
            "text/plain": [
              "array([[1.        , 0.99999997, 0.99999997],\n",
              "       [0.99999997, 1.        , 0.99999988],\n",
              "       [0.99999997, 0.99999988, 1.        ]])"
            ]
          },
          "metadata": {},
          "execution_count": 23
        }
      ]
    },
    {
      "cell_type": "markdown",
      "source": [
        "Dividir el dataset en train y test en proporcion de 75% y 25%"
      ],
      "metadata": {
        "id": "jU-b31MMUBpT"
      }
    },
    {
      "cell_type": "code",
      "source": [
        "train, test = final_data.randomSplit([0.75, 0.25])"
      ],
      "metadata": {
        "id": "_qwDrZtLT-NL"
      },
      "execution_count": 26,
      "outputs": []
    },
    {
      "cell_type": "code",
      "source": [
        "#Regresión lineal\n",
        "lr = LinearRegression(featuresCol = 'Independent', labelCol=\"avg(close)\", maxIter=10, regParam=0.3, elasticNetParam=0.8)\n",
        "lr_model = lr.fit(train)\n",
        "print(\"Coefficients: \" + str(lr_model.coefficients))\n",
        "print(\"Intercept: \" + str(lr_model.intercept))"
      ],
      "metadata": {
        "id": "jrBrS4ZIUHG3",
        "colab": {
          "base_uri": "https://localhost:8080/"
        },
        "outputId": "91e2eb30-e0ff-490e-b9db-acc452f5caa3"
      },
      "execution_count": 27,
      "outputs": [
        {
          "output_type": "stream",
          "name": "stdout",
          "text": [
            "Coefficients: [0.3305940591048401,0.329540860063884,0.33408348998765974]\n",
            "Intercept: 0.19172031774823473\n"
          ]
        }
      ]
    },
    {
      "cell_type": "markdown",
      "source": [
        "## Evaluación del modelo"
      ],
      "metadata": {
        "id": "OD9jGQ3r5CA7"
      }
    },
    {
      "cell_type": "code",
      "source": [
        "trainingSummary = lr_model.summary\n",
        "print(\"RMSE: %f\" % trainingSummary.rootMeanSquaredError)\n",
        "print(\"r2: %f\" % trainingSummary.r2)"
      ],
      "metadata": {
        "colab": {
          "base_uri": "https://localhost:8080/"
        },
        "id": "kdVI4Vpz7nJ1",
        "outputId": "68635412-17b0-4045-a42a-f8dd378ebed8"
      },
      "execution_count": 28,
      "outputs": [
        {
          "output_type": "stream",
          "name": "stdout",
          "text": [
            "RMSE: 0.278268\n",
            "r2: 0.999977\n"
          ]
        }
      ]
    },
    {
      "cell_type": "code",
      "source": [
        "train.describe().show()"
      ],
      "metadata": {
        "colab": {
          "base_uri": "https://localhost:8080/"
        },
        "id": "lQR8Lm_47vDA",
        "outputId": "da627ffe-1742-4a26-8daa-7aeb2ee21fe4"
      },
      "execution_count": 29,
      "outputs": [
        {
          "output_type": "stream",
          "name": "stdout",
          "text": [
            "+-------+------------------+\n",
            "|summary|        avg(close)|\n",
            "+-------+------------------+\n",
            "|  count|              2389|\n",
            "|   mean| 31.73779699874765|\n",
            "| stddev|  58.6580902881375|\n",
            "|    min|0.9262867559125384|\n",
            "|    max|2149.1428571428573|\n",
            "+-------+------------------+\n",
            "\n"
          ]
        }
      ]
    }
  ]
}